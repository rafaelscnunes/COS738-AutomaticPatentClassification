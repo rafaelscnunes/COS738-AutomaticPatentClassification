{
 "cells": [
  {
   "cell_type": "code",
   "execution_count": 1,
   "metadata": {
    "collapsed": true
   },
   "outputs": [],
   "source": [
    "import numpy as np\n",
    "import matplotlib.pyplot as plt\n",
    "import pandas as pd\n",
    "import random"
   ]
  },
  {
   "cell_type": "code",
   "execution_count": 110,
   "metadata": {
    "collapsed": false
   },
   "outputs": [],
   "source": [
    "# Importing the dataset\n",
    "#dataset = pd.read_csv('full.csv', delimiter='|')\n",
    "#X = dataset.iloc[:, :-1].values\n",
    "#y = dataset.iloc[:, 3].values\n",
    "\n",
    "def get_dataset(first_class = 'H'):\n",
    "    classes = set()\n",
    "    with open('full.csv', 'r', encoding=\"utf8\") as file:\n",
    "        for line in file:\n",
    "            data = line.split('|')\n",
    "            if len(data) == 7:\n",
    "                data_classes = data[1].split(',')\n",
    "                cl_set = set()\n",
    "                for cl in data_classes:\n",
    "                    c = cl.upper()\n",
    "                    c = c.replace(' ', '')\n",
    "                    a = re.search(r'([A-H])([0-9]{2})([A-Z])', c, re.M|re.I)\n",
    "                    try:\n",
    "                        if a.group(1) == first_class:\n",
    "                            classes.add(a.group(1) + a.group(2) + a.group(3))\n",
    "                    except:\n",
    "                        pass\n",
    "    \n",
    "    classes_dict = {}\n",
    "    for i in classes:\n",
    "        classes_dict[i] = 0\n",
    "\n",
    "    X = []\n",
    "    y = []\n",
    "    \n",
    "    with open('full.csv', 'r', encoding=\"utf8\") as file:\n",
    "        for line in file:\n",
    "            data = line.split('|')\n",
    "            if len(data) == 7:\n",
    "                data_classes = data[1].split(',')\n",
    "                my_classes = classes_dict.copy()\n",
    "                has_class = False\n",
    "                for cl in data_classes:\n",
    "                    c = cl.upper()\n",
    "                    c = c.replace(' ', '')\n",
    "                    a = re.search(r'([A-H])([0-9]{2})([A-Z])', c, re.M|re.I)\n",
    "                    try:\n",
    "                        if a.group(1) == first_class:\n",
    "                            my_classes[a.group(1) + a.group(2) + a.group(3)] = 1\n",
    "                            has_class = True\n",
    "                    except:\n",
    "                        pass\n",
    "                if has_class:\n",
    "                    X.append([data[2], data[3]])\n",
    "                    y.append(list(my_classes.values()))\n",
    "    \n",
    "    return [X, y, classes]"
   ]
  },
  {
   "cell_type": "code",
   "execution_count": 111,
   "metadata": {
    "collapsed": false
   },
   "outputs": [],
   "source": [
    "dataset = get_dataset(first_class = 'H')"
   ]
  },
  {
   "cell_type": "code",
   "execution_count": 112,
   "metadata": {
    "collapsed": false
   },
   "outputs": [],
   "source": [
    "X = dataset[0]\n",
    "y = dataset[1]"
   ]
  },
  {
   "cell_type": "code",
   "execution_count": 113,
   "metadata": {
    "collapsed": false
   },
   "outputs": [],
   "source": [
    "# Cleaning the texts\n",
    "import re\n",
    "import nltk\n",
    "corpus_titulo = []\n",
    "corpus_resumo = []\n",
    "for i in range(len(X)):\n",
    "    titulo = X[i][1].split()\n",
    "    resumo = X[i][0].split()\n",
    "    for j in range(len(titulo)):\n",
    "        titulo[j] = re.sub('[^a-zA-Z]', '', titulo[j])\n",
    "    for j in range(len(resumo)):\n",
    "        resumo[j] = re.sub('[^a-zA-Z]', '', resumo[j])\n",
    "    titulo = ' '.join(titulo)\n",
    "    resumo = ' '.join(resumo)\n",
    "    corpus_titulo.append(titulo)\n",
    "    corpus_resumo.append(resumo)"
   ]
  },
  {
   "cell_type": "code",
   "execution_count": 114,
   "metadata": {
    "collapsed": false
   },
   "outputs": [
    {
     "data": {
      "text/plain": [
       "'Envoltorio para maquinas eletricas'"
      ]
     },
     "execution_count": 114,
     "metadata": {},
     "output_type": "execute_result"
    }
   ],
   "source": [
    "corpus_resumo[0]"
   ]
  },
  {
   "cell_type": "code",
   "execution_count": 115,
   "metadata": {
    "collapsed": true
   },
   "outputs": [],
   "source": [
    "from sklearn.feature_extraction.text import CountVectorizer\n",
    "cv = CountVectorizer(max_features = None, ngram_range=(1,1))\n",
    "X_titulo = cv.fit_transform(corpus_titulo)\n",
    "\n",
    "from sklearn.feature_extraction.text import CountVectorizer\n",
    "cv = CountVectorizer(max_features = None, ngram_range=(1,1))\n",
    "X_resumo = cv.fit_transform(corpus_resumo)"
   ]
  },
  {
   "cell_type": "code",
   "execution_count": 116,
   "metadata": {
    "collapsed": false
   },
   "outputs": [],
   "source": [
    "# svd\n",
    "from sklearn.decomposition import TruncatedSVD\n",
    "svd = TruncatedSVD(n_components=50)\n",
    "X_titulo = svd.fit_transform(X_titulo)\n",
    "\n",
    "from sklearn.decomposition import TruncatedSVD\n",
    "svd = TruncatedSVD(n_components=50)\n",
    "X_resumo = svd.fit_transform(X_resumo)"
   ]
  },
  {
   "cell_type": "code",
   "execution_count": 117,
   "metadata": {
    "collapsed": false
   },
   "outputs": [],
   "source": [
    "# concatena titulo e resumo\n",
    "X = np.concatenate((X_titulo, X_resumo), axis=1)"
   ]
  },
  {
   "cell_type": "code",
   "execution_count": 118,
   "metadata": {
    "collapsed": false
   },
   "outputs": [],
   "source": [
    "from sklearn.model_selection import KFold\n",
    "from sklearn.naive_bayes import GaussianNB\n",
    "from sklearn.ensemble import RandomForestClassifier\n",
    "from sklearn.ensemble import GradientBoostingClassifier\n",
    "from sklearn.ensemble import AdaBoostClassifier\n",
    "from sklearn.linear_model import LogisticRegression\n",
    "from sklearn.neural_network import MLPClassifier\n",
    "from sklearn.preprocessing import StandardScaler\n",
    "from sklearn.metrics import confusion_matrix\n",
    "from sklearn.metrics import accuracy_score\n",
    "from sklearn.metrics import log_loss\n",
    "from sklearn.cross_validation import train_test_split\n",
    "\n",
    "X_train, X_test, y_train, y_test = train_test_split(X, y, test_size=0.1, random_state=None)"
   ]
  },
  {
   "cell_type": "code",
   "execution_count": 119,
   "metadata": {
    "collapsed": false
   },
   "outputs": [
    {
     "data": {
      "text/plain": [
       "RandomForestClassifier(bootstrap=True, class_weight=None, criterion='entropy',\n",
       "            max_depth=None, max_features='auto', max_leaf_nodes=None,\n",
       "            min_impurity_split=1e-07, min_samples_leaf=1,\n",
       "            min_samples_split=2, min_weight_fraction_leaf=0.0,\n",
       "            n_estimators=100, n_jobs=1, oob_score=False, random_state=None,\n",
       "            verbose=0, warm_start=False)"
      ]
     },
     "execution_count": 119,
     "metadata": {},
     "output_type": "execute_result"
    }
   ],
   "source": [
    "classifier = RandomForestClassifier(n_estimators = 100, criterion = 'entropy', random_state = None)\n",
    "classifier.fit(X_train, y_train)"
   ]
  },
  {
   "cell_type": "code",
   "execution_count": 120,
   "metadata": {
    "collapsed": false
   },
   "outputs": [],
   "source": [
    "# Predicting the Test set results\n",
    "y_pred = classifier.predict(X_test)"
   ]
  },
  {
   "cell_type": "code",
   "execution_count": 132,
   "metadata": {
    "collapsed": false
   },
   "outputs": [
    {
     "data": {
      "text/plain": [
       "array([ 0.,  0.,  0.,  0.,  0.,  0.,  0.,  0.,  0.,  0.,  0.,  0.,  0.,\n",
       "        0.,  0.,  0.,  0.,  0.,  0.,  0.,  0.,  0.,  0.,  0.,  0.,  0.,\n",
       "        0.,  0.,  1.,  0.,  0.,  0.,  0.,  0.,  0.,  0.,  0.,  0.,  0.,\n",
       "        0.,  0.,  0.,  0.,  0.,  0.,  0.,  0.,  0.,  0.,  0.,  0.,  0.,\n",
       "        0.,  0.,  0.,  0.,  0.])"
      ]
     },
     "execution_count": 132,
     "metadata": {},
     "output_type": "execute_result"
    }
   ],
   "source": [
    "y_pred[3]"
   ]
  },
  {
   "cell_type": "code",
   "execution_count": 125,
   "metadata": {
    "collapsed": false
   },
   "outputs": [],
   "source": [
    "acc = accuracy_score(np.array(y_test), y_pred)"
   ]
  },
  {
   "cell_type": "code",
   "execution_count": 138,
   "metadata": {
    "collapsed": false
   },
   "outputs": [
    {
     "data": {
      "text/plain": [
       "array([[0, 1, 1, 0, 0, 1],\n",
       "       [0, 1, 1, 0, 1, 1]])"
      ]
     },
     "execution_count": 138,
     "metadata": {},
     "output_type": "execute_result"
    }
   ],
   "source": [
    "np.array([[0,1,1,0,0,1],[0,1,1,0,1,1]])"
   ]
  },
  {
   "cell_type": "code",
   "execution_count": 139,
   "metadata": {
    "collapsed": false
   },
   "outputs": [
    {
     "data": {
      "text/plain": [
       "0.0"
      ]
     },
     "execution_count": 139,
     "metadata": {},
     "output_type": "execute_result"
    }
   ],
   "source": [
    "accuracy_score(np.array([[0,1,0,0,0,1],[0,1,1,0,1,1]]), np.array([[1,1,1,0,0,1],[0,1,1,0,0,1]]))"
   ]
  },
  {
   "cell_type": "code",
   "execution_count": null,
   "metadata": {
    "collapsed": true
   },
   "outputs": [],
   "source": []
  }
 ],
 "metadata": {
  "kernelspec": {
   "display_name": "Python 3",
   "language": "python",
   "name": "python3"
  },
  "language_info": {
   "codemirror_mode": {
    "name": "ipython",
    "version": 3
   },
   "file_extension": ".py",
   "mimetype": "text/x-python",
   "name": "python",
   "nbconvert_exporter": "python",
   "pygments_lexer": "ipython3",
   "version": "3.6.0"
  }
 },
 "nbformat": 4,
 "nbformat_minor": 2
}
