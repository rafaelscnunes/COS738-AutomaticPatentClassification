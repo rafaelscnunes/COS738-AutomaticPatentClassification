{
 "cells": [
  {
   "cell_type": "code",
   "execution_count": 1,
   "metadata": {
    "collapsed": true
   },
   "outputs": [],
   "source": [
    "import numpy as np\n",
    "import matplotlib.pyplot as plt\n",
    "import pandas as pd\n",
    "import random"
   ]
  },
  {
   "cell_type": "code",
   "execution_count": 178,
   "metadata": {
    "collapsed": false
   },
   "outputs": [],
   "source": [
    "# Importing the dataset\n",
    "#dataset = pd.read_csv('full.csv', delimiter='|')\n",
    "#X = dataset.iloc[:, :-1].values\n",
    "#y = dataset.iloc[:, 3].values\n",
    "\n",
    "def get_dataset(first_class = 'H', max_N=0):\n",
    "    \n",
    "    id = 0\n",
    "    classes = {}\n",
    "    X = []\n",
    "    y = []\n",
    "    \n",
    "    with open('full.csv', 'r', encoding=\"utf8\") as file:\n",
    "        i_N = 0\n",
    "        for line in file:\n",
    "            if max_N == 0 or i_N < max_N:\n",
    "                data = line.split('|')\n",
    "                if len(data) == 7:\n",
    "                    data_classes = data[1].split(',')\n",
    "                    cl_set = set()\n",
    "                    for cl in data_classes:\n",
    "                        c = cl.upper()\n",
    "                        c = c.replace(' ', '')\n",
    "                        a = re.search(r'([A-H])([0-9]{2})([A-Z])', c, re.M|re.I)\n",
    "                        try:\n",
    "                            if a.group(1) == first_class:\n",
    "                                cl_set.add(id)\n",
    "                                if (a.group(1) + a.group(2) + a.group(3)) not in classes:\n",
    "                                    classes[a.group(1) + a.group(2) + a.group(3)] = id\n",
    "                                    id += 1 \n",
    "                        except:\n",
    "                            pass\n",
    "                    if len(cl_set) > 0:\n",
    "                        X.append([data[2], data[3]])\n",
    "                        y.append(list(cl_set))\n",
    "                        i_N += 1\n",
    "    return [X, y, classes]"
   ]
  },
  {
   "cell_type": "code",
   "execution_count": 213,
   "metadata": {
    "collapsed": false
   },
   "outputs": [],
   "source": [
    "dataset = get_dataset(first_class = 'H') #, max_N = 1000)"
   ]
  },
  {
   "cell_type": "code",
   "execution_count": 214,
   "metadata": {
    "collapsed": false
   },
   "outputs": [],
   "source": [
    "X = dataset[0]\n",
    "y = dataset[1]\n",
    "\n",
    "from sklearn.preprocessing import MultiLabelBinarizer\n",
    "y = MultiLabelBinarizer().fit_transform(y)"
   ]
  },
  {
   "cell_type": "code",
   "execution_count": 215,
   "metadata": {
    "collapsed": false
   },
   "outputs": [],
   "source": [
    "# Cleaning the texts\n",
    "import re\n",
    "import nltk\n",
    "corpus_titulo = []\n",
    "corpus_resumo = []\n",
    "for i in range(len(X)):\n",
    "    titulo = X[i][1].split()\n",
    "    resumo = X[i][0].split()\n",
    "    for j in range(len(titulo)):\n",
    "        titulo[j] = re.sub('[^a-zA-Z]', '', titulo[j])\n",
    "    for j in range(len(resumo)):\n",
    "        resumo[j] = re.sub('[^a-zA-Z]', '', resumo[j])\n",
    "    titulo = ' '.join(titulo)\n",
    "    resumo = ' '.join(resumo)\n",
    "    corpus_titulo.append(titulo)\n",
    "    corpus_resumo.append(resumo)"
   ]
  },
  {
   "cell_type": "code",
   "execution_count": 216,
   "metadata": {
    "collapsed": false
   },
   "outputs": [
    {
     "data": {
      "text/plain": [
       "'Envoltorio para maquinas eletricas'"
      ]
     },
     "execution_count": 216,
     "metadata": {},
     "output_type": "execute_result"
    }
   ],
   "source": [
    "corpus_resumo[0]"
   ]
  },
  {
   "cell_type": "code",
   "execution_count": 217,
   "metadata": {
    "collapsed": true
   },
   "outputs": [],
   "source": [
    "from sklearn.feature_extraction.text import CountVectorizer\n",
    "cv = CountVectorizer(max_features = None, ngram_range=(1,1))\n",
    "X_titulo = cv.fit_transform(corpus_titulo)\n",
    "\n",
    "from sklearn.feature_extraction.text import CountVectorizer\n",
    "cv = CountVectorizer(max_features = None, ngram_range=(1,1))\n",
    "X_resumo = cv.fit_transform(corpus_resumo)"
   ]
  },
  {
   "cell_type": "code",
   "execution_count": 218,
   "metadata": {
    "collapsed": false
   },
   "outputs": [],
   "source": [
    "# svd\n",
    "from sklearn.decomposition import TruncatedSVD\n",
    "svd = TruncatedSVD(n_components=50)\n",
    "X_titulo = svd.fit_transform(X_titulo)\n",
    "\n",
    "from sklearn.decomposition import TruncatedSVD\n",
    "svd = TruncatedSVD(n_components=50)\n",
    "X_resumo = svd.fit_transform(X_resumo)"
   ]
  },
  {
   "cell_type": "code",
   "execution_count": 219,
   "metadata": {
    "collapsed": false
   },
   "outputs": [],
   "source": [
    "# concatena titulo e resumo\n",
    "X = np.concatenate((X_titulo, X_resumo), axis=1)"
   ]
  },
  {
   "cell_type": "code",
   "execution_count": 220,
   "metadata": {
    "collapsed": false
   },
   "outputs": [],
   "source": [
    "from sklearn.model_selection import KFold\n",
    "from sklearn.naive_bayes import GaussianNB\n",
    "from sklearn.ensemble import RandomForestClassifier\n",
    "from sklearn.ensemble import GradientBoostingClassifier\n",
    "from sklearn.ensemble import AdaBoostClassifier\n",
    "from sklearn.linear_model import LogisticRegression\n",
    "from sklearn.neural_network import MLPClassifier\n",
    "from sklearn.preprocessing import StandardScaler\n",
    "from sklearn.metrics import confusion_matrix\n",
    "from sklearn.metrics import accuracy_score\n",
    "from sklearn.metrics import log_loss\n",
    "from sklearn.cross_validation import train_test_split\n",
    "\n",
    "X_train, X_test, y_train, y_test = train_test_split(X, y, test_size=0.1, random_state=None)"
   ]
  },
  {
   "cell_type": "code",
   "execution_count": 221,
   "metadata": {
    "collapsed": false
   },
   "outputs": [
    {
     "data": {
      "text/plain": [
       "RandomForestClassifier(bootstrap=True, class_weight=None, criterion='entropy',\n",
       "            max_depth=None, max_features='auto', max_leaf_nodes=None,\n",
       "            min_impurity_split=1e-07, min_samples_leaf=1,\n",
       "            min_samples_split=2, min_weight_fraction_leaf=0.0,\n",
       "            n_estimators=100, n_jobs=1, oob_score=False, random_state=None,\n",
       "            verbose=0, warm_start=False)"
      ]
     },
     "execution_count": 221,
     "metadata": {},
     "output_type": "execute_result"
    }
   ],
   "source": [
    "classifier = RandomForestClassifier(n_estimators = 100, criterion = 'entropy', random_state = None)\n",
    "classifier.fit(X_train, y_train)"
   ]
  },
  {
   "cell_type": "code",
   "execution_count": 222,
   "metadata": {
    "collapsed": false
   },
   "outputs": [],
   "source": [
    "# Predicting the Test set results\n",
    "y_pred = classifier.predict(X_test)"
   ]
  },
  {
   "cell_type": "code",
   "execution_count": 223,
   "metadata": {
    "collapsed": false
   },
   "outputs": [
    {
     "data": {
      "text/plain": [
       "array([ 0.,  0.,  0.,  0.,  0.,  0.,  0.,  0.,  0.,  0.,  0.,  0.,  0.,\n",
       "        0.,  0.,  0.,  0.,  0.,  0.,  0.,  0.,  0.,  0.,  0.,  0.,  0.,\n",
       "        0.,  0.,  0.,  0.,  0.,  0.,  0.,  0.,  0.,  0.,  0.,  0.,  0.,\n",
       "        0.,  0.,  0.,  0.,  0.,  0.,  0.,  0.,  0.,  0.,  0.,  0.,  0.,\n",
       "        0.,  0.,  1.,  0.,  0.,  0.])"
      ]
     },
     "execution_count": 223,
     "metadata": {},
     "output_type": "execute_result"
    }
   ],
   "source": [
    "y_pred[3]"
   ]
  },
  {
   "cell_type": "code",
   "execution_count": 224,
   "metadata": {
    "collapsed": false
   },
   "outputs": [
    {
     "name": "stdout",
     "output_type": "stream",
     "text": [
      "[[3614]]\n",
      "[[3614]]\n",
      "[[3614]]\n",
      "[[3614]]\n",
      "[[3614]]\n",
      "[[3614]]\n",
      "[[3614]]\n",
      "[[3614]]\n",
      "[[3614]]\n",
      "[[3614]]\n",
      "[[3614]]\n",
      "[[3614]]\n",
      "[[3614]]\n",
      "[[3613    0]\n",
      " [   1    0]]\n",
      "[[3614]]\n",
      "[[3614]]\n",
      "[[3614]]\n",
      "[[3614]]\n",
      "[[3614]]\n",
      "[[3609    0]\n",
      " [   2    3]]\n",
      "[[3613    0]\n",
      " [   1    0]]\n",
      "[[3614]]\n",
      "[[3614]]\n",
      "[[3614]]\n",
      "[[3614]]\n",
      "[[3614]]\n",
      "[[3614]]\n",
      "[[3611    0]\n",
      " [   3    0]]\n",
      "[[3612    0]\n",
      " [   2    0]]\n",
      "[[3613    0]\n",
      " [   1    0]]\n",
      "[[3613    0]\n",
      " [   1    0]]\n",
      "[[3612    0]\n",
      " [   2    0]]\n",
      "[[3611    0]\n",
      " [   3    0]]\n",
      "[[3614]]\n",
      "[[3614]]\n",
      "[[3614]]\n",
      "[[3614]]\n",
      "[[3612    0]\n",
      " [   2    0]]\n",
      "[[3606    0]\n",
      " [   8    0]]\n",
      "[[3609    0]\n",
      " [   5    0]]\n",
      "[[3613    0]\n",
      " [   1    0]]\n",
      "[[3601    0]\n",
      " [  13    0]]\n",
      "[[3610    0]\n",
      " [   4    0]]\n",
      "[[3588    0]\n",
      " [  26    0]]\n",
      "[[3597    0]\n",
      " [  17    0]]\n",
      "[[3614]]\n",
      "[[3613    1]\n",
      " [   0    0]]\n",
      "[[3602    0]\n",
      " [  12    0]]\n",
      "[[3596    0]\n",
      " [  18    0]]\n",
      "[[3611    0]\n",
      " [   3    0]]\n",
      "[[3606    0]\n",
      " [   8    0]]\n",
      "[[3600    0]\n",
      " [  14    0]]\n",
      "[[3613    0]\n",
      " [   1    0]]\n",
      "[[3614]]\n",
      "[[  81  968]\n",
      " [  30 2535]]\n",
      "[[2865    9]\n",
      " [ 714   26]]\n",
      "[[3573    0]\n",
      " [  41    0]]\n",
      "[[3496    1]\n",
      " [ 109    8]]\n"
     ]
    }
   ],
   "source": [
    "for i in range(len(y_test[0])):\n",
    "    print(confusion_matrix(y_test[:, i], y_pred[:, i]))"
   ]
  },
  {
   "cell_type": "code",
   "execution_count": 225,
   "metadata": {
    "collapsed": false
   },
   "outputs": [
    {
     "name": "stdout",
     "output_type": "stream",
     "text": [
      "Media:  0.990358376429\n"
     ]
    },
    {
     "data": {
      "text/plain": [
       "[1.0,\n",
       " 1.0,\n",
       " 1.0,\n",
       " 1.0,\n",
       " 1.0,\n",
       " 1.0,\n",
       " 1.0,\n",
       " 1.0,\n",
       " 1.0,\n",
       " 1.0,\n",
       " 1.0,\n",
       " 1.0,\n",
       " 1.0,\n",
       " 0.99972329828444939,\n",
       " 1.0,\n",
       " 1.0,\n",
       " 1.0,\n",
       " 1.0,\n",
       " 1.0,\n",
       " 0.99944659656889878,\n",
       " 0.99972329828444939,\n",
       " 1.0,\n",
       " 1.0,\n",
       " 1.0,\n",
       " 1.0,\n",
       " 1.0,\n",
       " 1.0,\n",
       " 0.99916989485334806,\n",
       " 0.99944659656889878,\n",
       " 0.99972329828444939,\n",
       " 0.99972329828444939,\n",
       " 0.99944659656889878,\n",
       " 0.99916989485334806,\n",
       " 1.0,\n",
       " 1.0,\n",
       " 1.0,\n",
       " 1.0,\n",
       " 0.99944659656889878,\n",
       " 0.99778638627559491,\n",
       " 0.99861649142224684,\n",
       " 0.99972329828444939,\n",
       " 0.99640287769784175,\n",
       " 0.99889319313779745,\n",
       " 0.9928057553956835,\n",
       " 0.9952960708356392,\n",
       " 1.0,\n",
       " 0.99972329828444939,\n",
       " 0.99667957941339236,\n",
       " 0.99501936912008859,\n",
       " 0.99916989485334806,\n",
       " 0.99778638627559491,\n",
       " 0.99612617598229114,\n",
       " 0.99972329828444939,\n",
       " 1.0,\n",
       " 0.72385168788046483,\n",
       " 0.79994465965688988,\n",
       " 0.98865522966242392,\n",
       " 0.96956281128943]"
      ]
     },
     "execution_count": 225,
     "metadata": {},
     "output_type": "execute_result"
    }
   ],
   "source": [
    "acc = []\n",
    "for i in range(len(y_test[0])):\n",
    "    acc.append(accuracy_score(y_test[:, i], y_pred[:, i]))\n",
    "\n",
    "print('Media: ', np.array(acc).mean())\n",
    "acc"
   ]
  },
  {
   "cell_type": "code",
   "execution_count": 226,
   "metadata": {
    "collapsed": false
   },
   "outputs": [
    {
     "data": {
      "text/plain": [
       "{'H01B': 16,\n",
       " 'H01C': 8,\n",
       " 'H01F': 6,\n",
       " 'H01G': 13,\n",
       " 'H01H': 1,\n",
       " 'H01J': 17,\n",
       " 'H01K': 18,\n",
       " 'H01L': 30,\n",
       " 'H01M': 19,\n",
       " 'H01P': 35,\n",
       " 'H01Q': 29,\n",
       " 'H01R': 2,\n",
       " 'H01S': 7,\n",
       " 'H01T': 20,\n",
       " 'H02B': 11,\n",
       " 'H02C': 51,\n",
       " 'H02G': 4,\n",
       " 'H02H': 25,\n",
       " 'H02J': 22,\n",
       " 'H02K': 0,\n",
       " 'H02M': 21,\n",
       " 'H02N': 10,\n",
       " 'H02P': 26,\n",
       " 'H02R': 48,\n",
       " 'H02S': 56,\n",
       " 'H02V': 46,\n",
       " 'H03B': 49,\n",
       " 'H03C': 36,\n",
       " 'H03D': 32,\n",
       " 'H03F': 42,\n",
       " 'H03G': 43,\n",
       " 'H03H': 40,\n",
       " 'H03J': 33,\n",
       " 'H03K': 39,\n",
       " 'H03L': 37,\n",
       " 'H03M': 38,\n",
       " 'H04B': 23,\n",
       " 'H04D': 45,\n",
       " 'H04G': 52,\n",
       " 'H04H': 41,\n",
       " 'H04J': 24,\n",
       " 'H04K': 34,\n",
       " 'H04L': 31,\n",
       " 'H04M': 12,\n",
       " 'H04N': 5,\n",
       " 'H04Q': 14,\n",
       " 'H04R': 3,\n",
       " 'H04S': 28,\n",
       " 'H04W': 54,\n",
       " 'H05B': 15,\n",
       " 'H05C': 27,\n",
       " 'H05F': 50,\n",
       " 'H05G': 53,\n",
       " 'H05H': 47,\n",
       " 'H05K': 9,\n",
       " 'H61C': 44,\n",
       " 'H99Z': 55}"
      ]
     },
     "execution_count": 226,
     "metadata": {},
     "output_type": "execute_result"
    }
   ],
   "source": [
    "dataset[2]"
   ]
  },
  {
   "cell_type": "code",
   "execution_count": null,
   "metadata": {
    "collapsed": true
   },
   "outputs": [],
   "source": []
  }
 ],
 "metadata": {
  "kernelspec": {
   "display_name": "Python 3",
   "language": "python",
   "name": "python3"
  },
  "language_info": {
   "codemirror_mode": {
    "name": "ipython",
    "version": 3
   },
   "file_extension": ".py",
   "mimetype": "text/x-python",
   "name": "python",
   "nbconvert_exporter": "python",
   "pygments_lexer": "ipython3",
   "version": "3.6.0"
  }
 },
 "nbformat": 4,
 "nbformat_minor": 2
}
